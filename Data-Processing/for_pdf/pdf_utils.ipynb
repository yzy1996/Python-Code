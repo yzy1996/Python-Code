{
 "cells": [
  {
   "cell_type": "code",
   "execution_count": 1,
   "metadata": {},
   "outputs": [],
   "source": [
    "from pathlib import Path\n",
    "from PyPDF2 import PdfReader\n",
    "from pikepdf import Pdf, PdfImage\n",
    "import pytesseract\n",
    "import re "
   ]
  },
  {
   "cell_type": "markdown",
   "metadata": {},
   "source": [
    "# 提取pdf内容"
   ]
  },
  {
   "cell_type": "code",
   "execution_count": null,
   "metadata": {},
   "outputs": [],
   "source": [
    "from PyPDF2 import PdfReader\n",
    "\n",
    "reader = PdfReader(\"test.pdf\")\n",
    "\n",
    "for page in reader.pages:\n",
    "    print(page['/Annots'])\n",
    "    break\n",
    "    # if \"/Annots\" in page:\n",
    "    #     for annot in page[\"/Annots\"]:\n",
    "    #         obj = annot.get_object()\n",
    "    #         # annotation = {\"subtype\": obj[\"/Subtype\"], \"location\": obj[\"/Rect\"]}\n",
    "    #         # if subtype['/A']['/S'] == '/GoTo':\n",
    "    #         #     print(subtype['/A']['/D'])\n",
    "\n",
    "    #         print(obj)"
   ]
  },
  {
   "cell_type": "code",
   "execution_count": null,
   "metadata": {},
   "outputs": [],
   "source": [
    "with Pdf.open('CR-PI-2208-3391 ok.pdf') as pdf:\n",
    "\n",
    "    page = pdf.pages[-1]\n",
    "    keyimage = list(page.images.keys())\n",
    "    rawimage = page.images[keyimage[0]]\n",
    "    pdfimage = PdfImage(rawimage)\n",
    "    img = pdfimage.as_pil_image()\n",
    "\n",
    "    if pdfimage.width / pdfimage.height < 0.6:\n",
    "        rotation_degrees = pytesseract.image_to_osd(img).split('\\n')[1][-2:]\n",
    "        if rotation_degrees != '0':\n",
    "            img = img.rotate(int(rotation_degrees),expand=True)\n",
    "\n",
    "    print(pdfimage.width / pdfimage.height)\n",
    "\n",
    "    img = img.crop((0, 0, img.size[0] / 1.8, img.size[1] / 2))\n",
    "\n",
    "    text = pytesseract.image_to_string(img, lang='chi_sim')\n",
    "\n",
    "    print(text)"
   ]
  },
  {
   "cell_type": "markdown",
   "metadata": {},
   "source": [
    "# PDF to Image"
   ]
  },
  {
   "cell_type": "code",
   "execution_count": null,
   "metadata": {},
   "outputs": [],
   "source": [
    "from pikepdf import Pdf, PdfImage\n",
    "\n",
    "with Pdf.open('1.pdf') as pdf:\n",
    "    page = pdf.pages[0]\n",
    "    keyimage = list(page.images.keys())\n",
    "    rawimage = page.images[keyimage[0]]\n",
    "    pdfimage = PdfImage(rawimage)\n",
    "\n",
    "    # 保存为图片文件\n",
    "    pdfimage.extract_to(fileprefix='test')\n",
    "\n",
    "    # 保存为PIL.image\n",
    "    img = pdfimage.as_pil_image()\n",
    "    img.show()"
   ]
  }
 ],
 "metadata": {
  "kernelspec": {
   "display_name": "Python 3.9.12 ('base')",
   "language": "python",
   "name": "python3"
  },
  "language_info": {
   "codemirror_mode": {
    "name": "ipython",
    "version": 3
   },
   "file_extension": ".py",
   "mimetype": "text/x-python",
   "name": "python",
   "nbconvert_exporter": "python",
   "pygments_lexer": "ipython3",
   "version": "3.9.12"
  },
  "orig_nbformat": 4,
  "vscode": {
   "interpreter": {
    "hash": "40d3a090f54c6569ab1632332b64b2c03c39dcf918b08424e98f38b5ae0af88f"
   }
  }
 },
 "nbformat": 4,
 "nbformat_minor": 2
}
