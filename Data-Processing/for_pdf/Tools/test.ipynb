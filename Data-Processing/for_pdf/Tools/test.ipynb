{
 "cells": [
  {
   "cell_type": "code",
   "execution_count": 2,
   "metadata": {},
   "outputs": [],
   "source": [
    "from pikepdf import Pdf, PdfImage\n",
    "import pytesseract\n",
    "\n",
    "from PIL import Image\n",
    "import re\n",
    "import cv2\n",
    "import numpy as np\n",
    "from matplotlib import pyplot as plt\n",
    "\n",
    "from pyzbar.pyzbar import decode"
   ]
  },
  {
   "cell_type": "code",
   "execution_count": 6,
   "metadata": {},
   "outputs": [],
   "source": [
    "with Pdf.open('1.pdf') as pdf:\n",
    "\n",
    "    page = pdf.pages[0]\n",
    "    keyimage = list(page.images.keys())\n",
    "    rawimage = page.images[keyimage[0]]\n",
    "    pdfimage = PdfImage(rawimage)\n",
    "    image = pdfimage.as_pil_image()\n",
    "\n",
    "if pdfimage.width / pdfimage.height < 0.6:\n",
    "    rotation_degrees = re.findall(\"\\d+\", pytesseract.image_to_osd(image).split('\\n')[1])[0]\n",
    "    if rotation_degrees != '0':\n",
    "        image = image.rotate(int(rotation_degrees) , expand=True)"
   ]
  },
  {
   "cell_type": "code",
   "execution_count": 8,
   "metadata": {},
   "outputs": [
    {
     "name": "stdout",
     "output_type": "stream",
     "text": [
      "y_point_arr [143, 238, 409, 753, 819, 976]\n",
      "x_point_arr [157, 219, 573, 777, 848, 874, 1035, 1075, 1112, 1191, 1428, 1511, 1744]\n"
     ]
    }
   ],
   "source": [
    "\n",
    "\n",
    "cv2_img = np.array(image)\n",
    "\n",
    "# 灰度图片\n",
    "gray = cv2.cvtColor(cv2_img, cv2.COLOR_BGR2GRAY)\n",
    "# 二值化\n",
    "binary = cv2.adaptiveThreshold(~gray, 255, cv2.ADAPTIVE_THRESH_GAUSSIAN_C, cv2.THRESH_BINARY, 35, -5)\n",
    "cv2.imshow(\"binary_picture\", binary)  # 展示图片\n",
    "rows, cols = binary.shape\n",
    "scale = 40\n",
    "# 自适应获取核值 识别横线\n",
    "kernel = cv2.getStructuringElement(cv2.MORPH_RECT, (cols // scale, 1))\n",
    "eroded = cv2.erode(binary, kernel, iterations=1)\n",
    "\n",
    "dilated_col = cv2.dilate(eroded, kernel, iterations=1)\n",
    "cv2.imshow(\"excel_horizontal_line\", dilated_col)\n",
    "# cv2.waitKey(0)\n",
    "# 识别竖线\n",
    "scale = 20\n",
    "kernel = cv2.getStructuringElement(cv2.MORPH_RECT, (1, rows // scale))\n",
    "eroded = cv2.erode(binary, kernel, iterations=1)\n",
    "dilated_row = cv2.dilate(eroded, kernel, iterations=1)\n",
    "cv2.imshow(\"excel_vertical_line\", dilated_row)\n",
    "# cv2.waitKey(0)\n",
    "\n",
    "\n",
    "# 标识交点\n",
    "bitwise_and = cv2.bitwise_and(dilated_col, dilated_row)\n",
    "cv2.imshow(\"excel_bitwise_and\", bitwise_and)\n",
    "# cv2.waitKey(0)\n",
    "\n",
    "\n",
    "# 标识表格\n",
    "merge = cv2.add(dilated_col, dilated_row)\n",
    "cv2.imshow(\"entire_excel_contour\", merge)\n",
    "# cv2.waitKey(0)\n",
    "\n",
    "# \n",
    "# 识别黑白图中的白色交叉点，将横纵坐标取出\n",
    "ys, xs = np.where(bitwise_and > 0)\n",
    "\n",
    "# print(ys, xs)\n",
    "# 纵坐标\n",
    "y_point_arr = []\n",
    "# 横坐标\n",
    "x_point_arr = []\n",
    "# 通过排序，获取跳变的x和y的值，说明是交点，否则交点会有好多像素值值相近，我只取相近值的最后一点\n",
    "# 这个10的跳变不是固定的，根据不同的图片会有微调，基本上为单元格表格的高度（y坐标跳变）和长度（x坐标跳变）\n",
    "i = 0\n",
    "sort_x_point = np.sort(xs)\n",
    "for i in range(len(sort_x_point) - 1):\n",
    "    if sort_x_point[i + 1] - sort_x_point[i] > 20:\n",
    "        x_point_arr.append(sort_x_point[i])\n",
    "    i = i + 1\n",
    "x_point_arr.append(sort_x_point[i])  # 要将最后一个点加入\n",
    "\n",
    "i = 0\n",
    "sort_y_point = np.sort(ys)\n",
    "# print(np.sort(ys))\n",
    "for i in range(len(sort_y_point) - 1):\n",
    "    if (sort_y_point[i + 1] - sort_y_point[i] > 20):\n",
    "        y_point_arr.append(sort_y_point[i])\n",
    "    i = i + 1\n",
    "# 要将最后一个点加入\n",
    "y_point_arr.append(sort_y_point[i])\n",
    "print('y_point_arr', y_point_arr)\n",
    "print('x_point_arr', x_point_arr)\n",
    "\n",
    "\n",
    "# 来个范围筛选\n",
    "for i in range(len(x_point_arr)):\n",
    "    if x_point_arr[i] > 100:\n",
    "        break\n",
    "\n",
    "for j in range(len(y_point_arr)):\n",
    "    if y_point_arr[j] > 300:\n",
    "        j = j - 1\n",
    "        break\n",
    "    elif y_point_arr[j] > 100:\n",
    "        break\n",
    "\n",
    "left, top, right, bottom = x_point_arr[i+1], y_point_arr[j+1], x_point_arr[i+6], y_point_arr[j+2]\n",
    "# cv2.rectangle(raw, (x_point_arr[i+1], y_point_arr[1]), (x_point_arr[i+4], y_point_arr[2]), (0, 0, 255), 2)"
   ]
  },
  {
   "cell_type": "code",
   "execution_count": 9,
   "metadata": {},
   "outputs": [
    {
     "name": "stdout",
     "output_type": "stream",
     "text": [
      "名 称 : 波 科 国际 医疗 贸易 《上 海 ) 有 限 公司\n",
      "\n",
      "纳税 人 识别 号 : 91310000607379141\n",
      "\n",
      "地 址 、 电 话 : HR CE) 自由 贸易 试验 区 日 京 路 68 号 生产 楼 第 二 层 A 部 位 021-\n",
      "61415959\n",
      "\n",
      "开户 行 及 账号 : 清 打 银行 CHIL) 有 限 公司 上 海 分 行 404061-4037580133\n",
      "\n",
      "\n"
     ]
    }
   ],
   "source": [
    "\n",
    "img = image.crop((left, top, right, bottom))\n",
    "# img.show()\n",
    "text = pytesseract.image_to_string(img, lang='eng+chi_sim')\n",
    "print(text)"
   ]
  },
  {
   "cell_type": "code",
   "execution_count": 12,
   "metadata": {},
   "outputs": [
    {
     "data": {
      "text/plain": [
       "['国际', '医疗']"
      ]
     },
     "execution_count": 12,
     "metadata": {},
     "output_type": "execute_result"
    },
    {
     "ename": "",
     "evalue": "",
     "output_type": "error",
     "traceback": [
      "\u001b[1;31mThe Kernel crashed while executing code in the the current cell or a previous cell. Please review the code in the cell(s) to identify a possible cause of the failure. Click <a href='https://aka.ms/vscodeJupyterKernelCrash'>here</a> for more info. View Jupyter <a href='command:jupyter.viewOutput'>log</a> for further details."
     ]
    }
   ],
   "source": [
    "reg_tax = r'91[0-9A-Za-z]*'\n",
    "# reg_tax2 = r'[纳税人识别号].*?(\\d+)'\n",
    "reg_com = r'波科|国际|医疗'\n",
    "tax_real = '913100006073791417'\n",
    "\n",
    "tax_reco_s = re.findall(reg_tax, text)\n",
    "com_reco_s = re.findall(reg_com, text)\n",
    "\n",
    "\n",
    "com_reco_s"
   ]
  },
  {
   "cell_type": "code",
   "execution_count": null,
   "metadata": {},
   "outputs": [],
   "source": [
    "# 输出二维码坐标\n",
    "\n",
    "from PIL import Image, ImageDraw\n",
    "\n",
    "with Pdf.open('22.pdf') as pdf:\n",
    "\n",
    "    page = pdf.pages[0]\n",
    "    keyimage = list(page.images.keys())\n",
    "    rawimage = page.images[keyimage[0]]\n",
    "    pdfimage = PdfImage(rawimage)\n",
    "    img = pdfimage.as_pil_image()\n",
    "\n",
    "\n",
    "img1 = img.crop((0, 0, img.size[0] / 4, img.size[1] / 4))\n",
    "\n",
    "barcodes = decode(img1)\n",
    "\n",
    "left_top, _, botton_right, _ = barcodes[0].polygon\n",
    "\n",
    "print(left_top.x, left_top.y, botton_right.x, botton_right.y)"
   ]
  },
  {
   "cell_type": "code",
   "execution_count": null,
   "metadata": {},
   "outputs": [],
   "source": [
    "with Pdf.open('1.pdf') as pdf:\n",
    "\n",
    "    page = pdf.pages[0]\n",
    "    keyimage = list(page.images.keys())\n",
    "    rawimage = page.images[keyimage[0]]\n",
    "    pdfimage = PdfImage(rawimage)\n",
    "    image = pdfimage.as_pil_image()\n",
    "\n",
    "if pdfimage.width / pdfimage.height < 0.6:\n",
    "    rotation_degrees = re.findall(\"\\d+\", pytesseract.image_to_osd(image).split('\\n')[1])[0]\n",
    "    if rotation_degrees != '0':\n",
    "        image = image.rotate(int(rotation_degrees) , expand=True)\n",
    "\n",
    "text = pytesseract.image_to_string(image, lang='eng+chi_sim')\n",
    "print(text)"
   ]
  },
  {
   "cell_type": "code",
   "execution_count": 52,
   "metadata": {},
   "outputs": [
    {
     "name": "stdout",
     "output_type": "stream",
     "text": [
      "~91510100MA6CWUW177\n",
      "\n"
     ]
    }
   ],
   "source": [
    "img = cv2.imread('1.png')\n",
    "# 灰度处理\n",
    "gray = cv2.cvtColor(img,cv2.COLOR_BGR2GRAY)\n",
    "\n",
    "edges = cv2.Canny(gray,50,120)\n",
    "\n",
    "text = pytesseract.image_to_string(gray)\n",
    "print(text)\n",
    "# lines = cv2.HoughLinesP(edges, 1, np.pi/180, 100, lines=100, minLineLength=20)\n",
    "\n",
    "# # for x1,y1,x2,y2 in lines:\n",
    "# #     cv2.line(img,(x1,y1),(x2,y2),(0,255,0),2)\n",
    "\n",
    "# img1 = Image.fromarray(edges)\n",
    "# img1.show()\n",
    "# 91510100MA6CWUW177\n"
   ]
  },
  {
   "cell_type": "code",
   "execution_count": 3,
   "metadata": {},
   "outputs": [
    {
     "data": {
      "text/plain": [
       "[]"
      ]
     },
     "execution_count": 3,
     "metadata": {},
     "output_type": "execute_result"
    }
   ],
   "source": [
    "img= cv2.imread('22.png')\n",
    "imgray = cv2.cvtColor(img, cv2.COLOR_BGR2GRAY)\n",
    "decode(imgray)"
   ]
  }
 ],
 "metadata": {
  "kernelspec": {
   "display_name": "Python 3.9.12 ('base')",
   "language": "python",
   "name": "python3"
  },
  "language_info": {
   "codemirror_mode": {
    "name": "ipython",
    "version": 3
   },
   "file_extension": ".py",
   "mimetype": "text/x-python",
   "name": "python",
   "nbconvert_exporter": "python",
   "pygments_lexer": "ipython3",
   "version": "3.9.13"
  },
  "orig_nbformat": 4,
  "vscode": {
   "interpreter": {
    "hash": "40d3a090f54c6569ab1632332b64b2c03c39dcf918b08424e98f38b5ae0af88f"
   }
  }
 },
 "nbformat": 4,
 "nbformat_minor": 2
}
