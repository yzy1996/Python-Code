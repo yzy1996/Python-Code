{
 "cells": [
  {
   "cell_type": "code",
   "execution_count": 1,
   "metadata": {},
   "outputs": [],
   "source": [
    "from pikepdf import Pdf, PdfImage\n",
    "import pytesseract\n",
    "\n",
    "from PIL import Image\n",
    "\n",
    "import cv2\n",
    "import numpy as np\n",
    "from matplotlib import pyplot as plt\n",
    "\n",
    "from pyzbar.pyzbar import decode"
   ]
  },
  {
   "cell_type": "code",
   "execution_count": 91,
   "metadata": {},
   "outputs": [],
   "source": [
    "with Pdf.open('2.pdf') as pdf:\n",
    "\n",
    "    page = pdf.pages[0]\n",
    "    keyimage = list(page.images.keys())\n",
    "    rawimage = page.images[keyimage[0]]\n",
    "    pdfimage = PdfImage(rawimage)\n",
    "    img = pdfimage.as_pil_image()\n",
    "\n",
    "if pdfimage.width / pdfimage.height < 0.6:\n",
    "    rotation_degrees = pytesseract.image_to_osd(img).split('\\n')[1][-2:]\n",
    "    if rotation_degrees != '0':\n",
    "        img = img.rotate(int(rotation_degrees),expand=True)"
   ]
  },
  {
   "cell_type": "code",
   "execution_count": 92,
   "metadata": {},
   "outputs": [
    {
     "name": "stdout",
     "output_type": "stream",
     "text": [
      "y_point_arr [143, 237, 408, 565, 599, 753, 818, 977]\n",
      "x_point_arr [160, 223, 581, 785, 856, 883, 1044, 1084, 1120, 1200, 1437, 1520, 1754]\n"
     ]
    }
   ],
   "source": [
    "\n",
    "\n",
    "cv2_img = np.array(img)\n",
    "\n",
    "# 灰度图片\n",
    "gray = cv2.cvtColor(cv2_img, cv2.COLOR_BGR2GRAY)\n",
    "# 二值化\n",
    "binary = cv2.adaptiveThreshold(~gray, 255, cv2.ADAPTIVE_THRESH_GAUSSIAN_C, cv2.THRESH_BINARY, 35, -5)\n",
    "cv2.imshow(\"binary_picture\", binary)  # 展示图片\n",
    "rows, cols = binary.shape\n",
    "scale = 40\n",
    "# 自适应获取核值 识别横线\n",
    "kernel = cv2.getStructuringElement(cv2.MORPH_RECT, (cols // scale, 1))\n",
    "eroded = cv2.erode(binary, kernel, iterations=1)\n",
    "\n",
    "dilated_col = cv2.dilate(eroded, kernel, iterations=1)\n",
    "cv2.imshow(\"excel_horizontal_line\", dilated_col)\n",
    "# cv2.waitKey(0)\n",
    "# 识别竖线\n",
    "scale = 20\n",
    "kernel = cv2.getStructuringElement(cv2.MORPH_RECT, (1, rows // scale))\n",
    "eroded = cv2.erode(binary, kernel, iterations=1)\n",
    "dilated_row = cv2.dilate(eroded, kernel, iterations=1)\n",
    "cv2.imshow(\"excel_vertical_line\", dilated_row)\n",
    "# cv2.waitKey(0)\n",
    "\n",
    "\n",
    "# 标识交点\n",
    "bitwise_and = cv2.bitwise_and(dilated_col, dilated_row)\n",
    "cv2.imshow(\"excel_bitwise_and\", bitwise_and)\n",
    "# cv2.waitKey(0)\n",
    "\n",
    "\n",
    "# 标识表格\n",
    "merge = cv2.add(dilated_col, dilated_row)\n",
    "cv2.imshow(\"entire_excel_contour\", merge)\n",
    "# cv2.waitKey(0)\n",
    "\n",
    "# \n",
    "# 识别黑白图中的白色交叉点，将横纵坐标取出\n",
    "ys, xs = np.where(bitwise_and > 0)\n",
    "\n",
    "# print(ys, xs)\n",
    "# 纵坐标\n",
    "y_point_arr = []\n",
    "# 横坐标\n",
    "x_point_arr = []\n",
    "# 通过排序，获取跳变的x和y的值，说明是交点，否则交点会有好多像素值值相近，我只取相近值的最后一点\n",
    "# 这个10的跳变不是固定的，根据不同的图片会有微调，基本上为单元格表格的高度（y坐标跳变）和长度（x坐标跳变）\n",
    "i = 0\n",
    "sort_x_point = np.sort(xs)\n",
    "for i in range(len(sort_x_point) - 1):\n",
    "    if sort_x_point[i + 1] - sort_x_point[i] > 20:\n",
    "        x_point_arr.append(sort_x_point[i])\n",
    "    i = i + 1\n",
    "x_point_arr.append(sort_x_point[i])  # 要将最后一个点加入\n",
    "\n",
    "i = 0\n",
    "sort_y_point = np.sort(ys)\n",
    "# print(np.sort(ys))\n",
    "for i in range(len(sort_y_point) - 1):\n",
    "    if (sort_y_point[i + 1] - sort_y_point[i] > 20):\n",
    "        y_point_arr.append(sort_y_point[i])\n",
    "    i = i + 1\n",
    "# 要将最后一个点加入\n",
    "y_point_arr.append(sort_y_point[i])\n",
    "print('y_point_arr', y_point_arr)\n",
    "print('x_point_arr', x_point_arr)\n",
    "\n",
    "\n",
    "# 来个范围筛选\n",
    "for i in range(len(x_point_arr)):\n",
    "    if x_point_arr[i] > 100:\n",
    "        break\n",
    "\n",
    "left, top, right, bottom = x_point_arr[i+1], y_point_arr[1], x_point_arr[i+4], y_point_arr[2]\n",
    "# cv2.rectangle(raw, (x_point_arr[i+1], y_point_arr[1]), (x_point_arr[i+4], y_point_arr[2]), (0, 0, 255), 2)"
   ]
  },
  {
   "cell_type": "code",
   "execution_count": 93,
   "metadata": {},
   "outputs": [
    {
     "name": "stdout",
     "output_type": "stream",
     "text": [
      "名        称: 淫科国际医疗贯易《上海) 有限公司戌\n",
      "\n",
      "纳税人识别号;      91510100MA6CWUW1377\n",
      "地，师线，  起 和疫机汪各生生Ri和0\n",
      "开户行及账号:  中国银行成都天府大进支行 125315753\n",
      "\n",
      "\n"
     ]
    }
   ],
   "source": [
    "\n",
    "img = img.crop((left, top, right, bottom))\n",
    "# img.show()\n",
    "text = pytesseract.image_to_string(img, lang='chi_sim')\n",
    "print(text)"
   ]
  },
  {
   "cell_type": "code",
   "execution_count": null,
   "metadata": {},
   "outputs": [],
   "source": [
    "# 输出二维码坐标\n",
    "\n",
    "from PIL import Image, ImageDraw\n",
    "\n",
    "with Pdf.open('22.pdf') as pdf:\n",
    "\n",
    "    page = pdf.pages[0]\n",
    "    keyimage = list(page.images.keys())\n",
    "    rawimage = page.images[keyimage[0]]\n",
    "    pdfimage = PdfImage(rawimage)\n",
    "    img = pdfimage.as_pil_image()\n",
    "\n",
    "\n",
    "img1 = img.crop((0, 0, img.size[0] / 4, img.size[1] / 4))\n",
    "\n",
    "barcodes = decode(img1)\n",
    "\n",
    "left_top, _, botton_right, _ = barcodes[0].polygon\n",
    "\n",
    "print(left_top.x, left_top.y, botton_right.x, botton_right.y)"
   ]
  },
  {
   "cell_type": "code",
   "execution_count": 28,
   "metadata": {},
   "outputs": [
    {
     "ename": "IndexError",
     "evalue": "list index out of range",
     "output_type": "error",
     "traceback": [
      "\u001b[0;31m---------------------------------------------------------------------------\u001b[0m",
      "\u001b[0;31mIndexError\u001b[0m                                Traceback (most recent call last)",
      "\u001b[1;32m/Users/yzy/Library/CloudStorage/OneDrive-CityUniversityofHongKong-Student/Github/6-Maintain/Python-Code/Data-Processing/for_pdf/Tools/test.ipynb Cell 3\u001b[0m in \u001b[0;36m<cell line: 11>\u001b[0;34m()\u001b[0m\n\u001b[1;32m      <a href='vscode-notebook-cell:/Users/yzy/Library/CloudStorage/OneDrive-CityUniversityofHongKong-Student/Github/6-Maintain/Python-Code/Data-Processing/for_pdf/Tools/test.ipynb#X15sZmlsZQ%3D%3D?line=8'>9</a>\u001b[0m zbar_part \u001b[39m=\u001b[39m img\u001b[39m.\u001b[39mcrop((\u001b[39m0\u001b[39m, \u001b[39m0\u001b[39m, img\u001b[39m.\u001b[39msize[\u001b[39m0\u001b[39m] \u001b[39m/\u001b[39m \u001b[39m4\u001b[39m, img\u001b[39m.\u001b[39msize[\u001b[39m1\u001b[39m] \u001b[39m/\u001b[39m \u001b[39m4\u001b[39m))\n\u001b[1;32m     <a href='vscode-notebook-cell:/Users/yzy/Library/CloudStorage/OneDrive-CityUniversityofHongKong-Student/Github/6-Maintain/Python-Code/Data-Processing/for_pdf/Tools/test.ipynb#X15sZmlsZQ%3D%3D?line=9'>10</a>\u001b[0m barcodes \u001b[39m=\u001b[39m decode(zbar_part)\n\u001b[0;32m---> <a href='vscode-notebook-cell:/Users/yzy/Library/CloudStorage/OneDrive-CityUniversityofHongKong-Student/Github/6-Maintain/Python-Code/Data-Processing/for_pdf/Tools/test.ipynb#X15sZmlsZQ%3D%3D?line=10'>11</a>\u001b[0m left, top, width, height \u001b[39m=\u001b[39m barcodes[\u001b[39m0\u001b[39;49m]\u001b[39m.\u001b[39mrect\n\u001b[1;32m     <a href='vscode-notebook-cell:/Users/yzy/Library/CloudStorage/OneDrive-CityUniversityofHongKong-Student/Github/6-Maintain/Python-Code/Data-Processing/for_pdf/Tools/test.ipynb#X15sZmlsZQ%3D%3D?line=12'>13</a>\u001b[0m ocr_part \u001b[39m=\u001b[39m img\u001b[39m.\u001b[39mcrop((left\u001b[39m+\u001b[39mwidth, top\u001b[39m+\u001b[39mheight, img\u001b[39m.\u001b[39msize[\u001b[39m0\u001b[39m] \u001b[39m/\u001b[39m \u001b[39m2\u001b[39m, img\u001b[39m.\u001b[39msize[\u001b[39m1\u001b[39m] \u001b[39m/\u001b[39m \u001b[39m3\u001b[39m))\n\u001b[1;32m     <a href='vscode-notebook-cell:/Users/yzy/Library/CloudStorage/OneDrive-CityUniversityofHongKong-Student/Github/6-Maintain/Python-Code/Data-Processing/for_pdf/Tools/test.ipynb#X15sZmlsZQ%3D%3D?line=14'>15</a>\u001b[0m text \u001b[39m=\u001b[39m pytesseract\u001b[39m.\u001b[39mimage_to_string(ocr_part)\n",
      "\u001b[0;31mIndexError\u001b[0m: list index out of range"
     ]
    }
   ],
   "source": [
    "with Pdf.open('1.pdf') as pdf:\n",
    "\n",
    "    page = pdf.pages[0]\n",
    "    keyimage = list(page.images.keys())\n",
    "    rawimage = page.images[keyimage[0]]\n",
    "    pdfimage = PdfImage(rawimage)\n",
    "    img = pdfimage.as_pil_image()\n",
    "\n",
    "zbar_part = img.crop((0, 0, img.size[0] / 4, img.size[1] / 4))\n",
    "barcodes = decode(zbar_part)\n",
    "left, top, width, height = barcodes[0].rect\n",
    "\n",
    "ocr_part = img.crop((left+width, top+height, img.size[0] / 2, img.size[1] / 3))\n",
    "\n",
    "text = pytesseract.image_to_string(ocr_part)\n",
    "ocr_part.show()\n",
    "print(text)"
   ]
  },
  {
   "cell_type": "code",
   "execution_count": 52,
   "metadata": {},
   "outputs": [
    {
     "name": "stdout",
     "output_type": "stream",
     "text": [
      "~91510100MA6CWUW177\n",
      "\n"
     ]
    }
   ],
   "source": [
    "img = cv2.imread('1.png')\n",
    "# 灰度处理\n",
    "gray = cv2.cvtColor(img,cv2.COLOR_BGR2GRAY)\n",
    "\n",
    "edges = cv2.Canny(gray,50,120)\n",
    "\n",
    "text = pytesseract.image_to_string(gray)\n",
    "print(text)\n",
    "# lines = cv2.HoughLinesP(edges, 1, np.pi/180, 100, lines=100, minLineLength=20)\n",
    "\n",
    "# # for x1,y1,x2,y2 in lines:\n",
    "# #     cv2.line(img,(x1,y1),(x2,y2),(0,255,0),2)\n",
    "\n",
    "# img1 = Image.fromarray(edges)\n",
    "# img1.show()\n",
    "# 91510100MA6CWUW177\n"
   ]
  },
  {
   "cell_type": "code",
   "execution_count": 3,
   "metadata": {},
   "outputs": [
    {
     "data": {
      "text/plain": [
       "[]"
      ]
     },
     "execution_count": 3,
     "metadata": {},
     "output_type": "execute_result"
    }
   ],
   "source": [
    "img= cv2.imread('22.png')\n",
    "imgray = cv2.cvtColor(img, cv2.COLOR_BGR2GRAY)\n",
    "decode(imgray)"
   ]
  }
 ],
 "metadata": {
  "kernelspec": {
   "display_name": "Python 3.9.12 ('base')",
   "language": "python",
   "name": "python3"
  },
  "language_info": {
   "codemirror_mode": {
    "name": "ipython",
    "version": 3
   },
   "file_extension": ".py",
   "mimetype": "text/x-python",
   "name": "python",
   "nbconvert_exporter": "python",
   "pygments_lexer": "ipython3",
   "version": "3.9.12"
  },
  "orig_nbformat": 4,
  "vscode": {
   "interpreter": {
    "hash": "40d3a090f54c6569ab1632332b64b2c03c39dcf918b08424e98f38b5ae0af88f"
   }
  }
 },
 "nbformat": 4,
 "nbformat_minor": 2
}
